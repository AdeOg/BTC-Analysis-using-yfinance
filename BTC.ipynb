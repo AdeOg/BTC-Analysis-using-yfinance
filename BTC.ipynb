{
 "cells": [
  {
   "cell_type": "code",
   "execution_count": 23,
   "id": "2a4a38ed",
   "metadata": {},
   "outputs": [],
   "source": [
    "import numpy as np \n",
    "import pandas as pd\n",
    "import matplotlib.pyplot as plt\n",
    "import yfinance as yf\n",
    "import scipy.stats as si"
   ]
  },
  {
   "cell_type": "code",
   "execution_count": 101,
   "id": "70a5967e",
   "metadata": {},
   "outputs": [
    {
     "name": "stdout",
     "output_type": "stream",
     "text": [
      "[*********************100%***********************]  1 of 1 completed\n"
     ]
    }
   ],
   "source": [
    "df = yf.download(\"BTC\", start=\"2021-01-01\", end=\"2021-12-30\")"
   ]
  },
  {
   "cell_type": "code",
   "execution_count": 102,
   "id": "4e5fe684",
   "metadata": {},
   "outputs": [
    {
     "data": {
      "text/plain": [
       "251"
      ]
     },
     "execution_count": 102,
     "metadata": {},
     "output_type": "execute_result"
    }
   ],
   "source": [
    "df.shape[0]"
   ]
  },
  {
   "cell_type": "code",
   "execution_count": 103,
   "id": "232059f5",
   "metadata": {},
   "outputs": [
    {
     "data": {
      "text/html": [
       "<div>\n",
       "<style scoped>\n",
       "    .dataframe tbody tr th:only-of-type {\n",
       "        vertical-align: middle;\n",
       "    }\n",
       "\n",
       "    .dataframe tbody tr th {\n",
       "        vertical-align: top;\n",
       "    }\n",
       "\n",
       "    .dataframe thead th {\n",
       "        text-align: right;\n",
       "    }\n",
       "</style>\n",
       "<table border=\"1\" class=\"dataframe\">\n",
       "  <thead>\n",
       "    <tr style=\"text-align: right;\">\n",
       "      <th></th>\n",
       "      <th>Open</th>\n",
       "      <th>High</th>\n",
       "      <th>Low</th>\n",
       "      <th>Close</th>\n",
       "      <th>Adj Close</th>\n",
       "      <th>Volume</th>\n",
       "    </tr>\n",
       "    <tr>\n",
       "      <th>Date</th>\n",
       "      <th></th>\n",
       "      <th></th>\n",
       "      <th></th>\n",
       "      <th></th>\n",
       "      <th></th>\n",
       "      <th></th>\n",
       "    </tr>\n",
       "  </thead>\n",
       "  <tbody>\n",
       "    <tr>\n",
       "      <th>2020-12-31</th>\n",
       "      <td>100.160004</td>\n",
       "      <td>100.160004</td>\n",
       "      <td>100.154999</td>\n",
       "      <td>100.154999</td>\n",
       "      <td>100.154999</td>\n",
       "      <td>102</td>\n",
       "    </tr>\n",
       "    <tr>\n",
       "      <th>2021-01-04</th>\n",
       "      <td>100.122902</td>\n",
       "      <td>100.122902</td>\n",
       "      <td>100.122902</td>\n",
       "      <td>100.122902</td>\n",
       "      <td>100.122902</td>\n",
       "      <td>2</td>\n",
       "    </tr>\n",
       "    <tr>\n",
       "      <th>2021-01-05</th>\n",
       "      <td>100.059998</td>\n",
       "      <td>100.079903</td>\n",
       "      <td>100.050003</td>\n",
       "      <td>100.050003</td>\n",
       "      <td>100.050003</td>\n",
       "      <td>751</td>\n",
       "    </tr>\n",
       "    <tr>\n",
       "      <th>2021-01-06</th>\n",
       "      <td>99.859001</td>\n",
       "      <td>99.874603</td>\n",
       "      <td>99.859001</td>\n",
       "      <td>99.874603</td>\n",
       "      <td>99.874603</td>\n",
       "      <td>109</td>\n",
       "    </tr>\n",
       "    <tr>\n",
       "      <th>2021-01-07</th>\n",
       "      <td>99.830002</td>\n",
       "      <td>99.830002</td>\n",
       "      <td>99.785004</td>\n",
       "      <td>99.813698</td>\n",
       "      <td>99.813698</td>\n",
       "      <td>2099</td>\n",
       "    </tr>\n",
       "  </tbody>\n",
       "</table>\n",
       "</div>"
      ],
      "text/plain": [
       "                  Open        High         Low       Close   Adj Close  Volume\n",
       "Date                                                                          \n",
       "2020-12-31  100.160004  100.160004  100.154999  100.154999  100.154999     102\n",
       "2021-01-04  100.122902  100.122902  100.122902  100.122902  100.122902       2\n",
       "2021-01-05  100.059998  100.079903  100.050003  100.050003  100.050003     751\n",
       "2021-01-06   99.859001   99.874603   99.859001   99.874603   99.874603     109\n",
       "2021-01-07   99.830002   99.830002   99.785004   99.813698   99.813698    2099"
      ]
     },
     "execution_count": 103,
     "metadata": {},
     "output_type": "execute_result"
    }
   ],
   "source": [
    "df.head()"
   ]
  },
  {
   "cell_type": "code",
   "execution_count": 104,
   "id": "e3675f02",
   "metadata": {},
   "outputs": [
    {
     "data": {
      "text/html": [
       "<div>\n",
       "<style scoped>\n",
       "    .dataframe tbody tr th:only-of-type {\n",
       "        vertical-align: middle;\n",
       "    }\n",
       "\n",
       "    .dataframe tbody tr th {\n",
       "        vertical-align: top;\n",
       "    }\n",
       "\n",
       "    .dataframe thead th {\n",
       "        text-align: right;\n",
       "    }\n",
       "</style>\n",
       "<table border=\"1\" class=\"dataframe\">\n",
       "  <thead>\n",
       "    <tr style=\"text-align: right;\">\n",
       "      <th></th>\n",
       "      <th>Open</th>\n",
       "      <th>High</th>\n",
       "      <th>Low</th>\n",
       "      <th>Close</th>\n",
       "      <th>Adj Close</th>\n",
       "      <th>Volume</th>\n",
       "    </tr>\n",
       "  </thead>\n",
       "  <tbody>\n",
       "    <tr>\n",
       "      <th>count</th>\n",
       "      <td>251.000000</td>\n",
       "      <td>251.000000</td>\n",
       "      <td>251.000000</td>\n",
       "      <td>251.000000</td>\n",
       "      <td>251.000000</td>\n",
       "      <td>251.000000</td>\n",
       "    </tr>\n",
       "    <tr>\n",
       "      <th>mean</th>\n",
       "      <td>99.135735</td>\n",
       "      <td>99.150371</td>\n",
       "      <td>99.112634</td>\n",
       "      <td>99.131618</td>\n",
       "      <td>99.131618</td>\n",
       "      <td>2831.828685</td>\n",
       "    </tr>\n",
       "    <tr>\n",
       "      <th>std</th>\n",
       "      <td>0.472000</td>\n",
       "      <td>0.470171</td>\n",
       "      <td>0.461912</td>\n",
       "      <td>0.457527</td>\n",
       "      <td>0.457527</td>\n",
       "      <td>23905.673822</td>\n",
       "    </tr>\n",
       "    <tr>\n",
       "      <th>min</th>\n",
       "      <td>98.172501</td>\n",
       "      <td>98.172501</td>\n",
       "      <td>98.172501</td>\n",
       "      <td>98.172501</td>\n",
       "      <td>98.172501</td>\n",
       "      <td>0.000000</td>\n",
       "    </tr>\n",
       "    <tr>\n",
       "      <th>25%</th>\n",
       "      <td>98.730003</td>\n",
       "      <td>98.735497</td>\n",
       "      <td>98.722202</td>\n",
       "      <td>98.723003</td>\n",
       "      <td>98.723003</td>\n",
       "      <td>2.000000</td>\n",
       "    </tr>\n",
       "    <tr>\n",
       "      <th>50%</th>\n",
       "      <td>99.110001</td>\n",
       "      <td>99.110001</td>\n",
       "      <td>99.110001</td>\n",
       "      <td>99.110001</td>\n",
       "      <td>99.110001</td>\n",
       "      <td>100.000000</td>\n",
       "    </tr>\n",
       "    <tr>\n",
       "      <th>75%</th>\n",
       "      <td>99.575497</td>\n",
       "      <td>99.585701</td>\n",
       "      <td>99.559250</td>\n",
       "      <td>99.581249</td>\n",
       "      <td>99.581249</td>\n",
       "      <td>751.500000</td>\n",
       "    </tr>\n",
       "    <tr>\n",
       "      <th>max</th>\n",
       "      <td>100.889999</td>\n",
       "      <td>100.889999</td>\n",
       "      <td>100.154999</td>\n",
       "      <td>100.154999</td>\n",
       "      <td>100.154999</td>\n",
       "      <td>354054.000000</td>\n",
       "    </tr>\n",
       "  </tbody>\n",
       "</table>\n",
       "</div>"
      ],
      "text/plain": [
       "             Open        High         Low       Close   Adj Close  \\\n",
       "count  251.000000  251.000000  251.000000  251.000000  251.000000   \n",
       "mean    99.135735   99.150371   99.112634   99.131618   99.131618   \n",
       "std      0.472000    0.470171    0.461912    0.457527    0.457527   \n",
       "min     98.172501   98.172501   98.172501   98.172501   98.172501   \n",
       "25%     98.730003   98.735497   98.722202   98.723003   98.723003   \n",
       "50%     99.110001   99.110001   99.110001   99.110001   99.110001   \n",
       "75%     99.575497   99.585701   99.559250   99.581249   99.581249   \n",
       "max    100.889999  100.889999  100.154999  100.154999  100.154999   \n",
       "\n",
       "              Volume  \n",
       "count     251.000000  \n",
       "mean     2831.828685  \n",
       "std     23905.673822  \n",
       "min         0.000000  \n",
       "25%         2.000000  \n",
       "50%       100.000000  \n",
       "75%       751.500000  \n",
       "max    354054.000000  "
      ]
     },
     "execution_count": 104,
     "metadata": {},
     "output_type": "execute_result"
    }
   ],
   "source": [
    "df.describe()"
   ]
  },
  {
   "cell_type": "markdown",
   "id": "be7538c8",
   "metadata": {},
   "source": [
    "# This is how volatile the market was for BTC across the whole year"
   ]
  },
  {
   "cell_type": "code",
   "execution_count": 105,
   "id": "a264f37b",
   "metadata": {},
   "outputs": [
    {
     "name": "stdout",
     "output_type": "stream",
     "text": [
      "Volatility After 365 days: 2.11 %\n"
     ]
    }
   ],
   "source": [
    "df['Log Return'] = np.log(df['Adj Close'] / df['Adj Close'].shift(1))\n",
    "vol = np.sqrt(365) * df['Log Return'].std()\n",
    "print(\"Volatility After 365 days:\", round(vol* 100, 2), '%')"
   ]
  },
  {
   "cell_type": "markdown",
   "id": "abd20c80",
   "metadata": {},
   "source": [
    "# This plot shows the change in prices of Bitcoin during 2021"
   ]
  },
  {
   "cell_type": "markdown",
   "id": "659c0982",
   "metadata": {},
   "source": [
    "The data for the period between 5-2021 to 7-2021 seems to be missing"
   ]
  },
  {
   "cell_type": "code",
   "execution_count": 106,
   "id": "75792b40",
   "metadata": {},
   "outputs": [
    {
     "data": {
      "image/png": "[encoded data removed]",
      "text/plain": [
       "<Figure size 576x360 with 1 Axes>"
      ]
     },
     "metadata": {
      "needs_background": "light"
     },
     "output_type": "display_data"
    }
   ],
   "source": [
    "df['Adj Close'].plot(subplots=True, color='green', figsize=(8,5));"
   ]
  },
  {
   "cell_type": "markdown",
   "id": "15fcfbeb",
   "metadata": {},
   "source": [
    "###### By the beginning of 2021 the prices seemed to be declining with a general downward trend till the period between March and May, followed by a steady increase in prices which peaked by August, then started declining again till the end of 2021"
   ]
  },
  {
   "cell_type": "markdown",
   "id": "96dff954",
   "metadata": {},
   "source": [
    "# In our analysis we'll be using European options"
   ]
  },
  {
   "cell_type": "markdown",
   "id": "7122c9bb",
   "metadata": {},
   "source": [
    "### Black-Scholes Assumptions\n",
    " \n",
    "\n",
    "1) Interest rate is known and constant through time. \n",
    "\n",
    "2) The stock follows a random walk in continuous time, the variance of the stock price paths follow a log-normal distribution. \n",
    "\n",
    "3) Volatility is constant \n",
    "\n",
    "4) Stock pays no dividends (can be modified to include them however)\n",
    "\n",
    "5) The option can only be exercised at expiration i.e. it is a European type option.\n",
    "\n",
    "6) No transaction costs i.e. fees on shorting selling etc. \n",
    "\n",
    "7) Fractional trading is possible i.e. we can buy/sell 0.x of any given stock. \n",
    "\n",
    "reference: https://www.codearmo.com/python-tutorial/options-trading-black-scholes-model"
   ]
  },
  {
   "cell_type": "markdown",
   "id": "77939633",
   "metadata": {},
   "source": [
    " Creating the function for call values"
   ]
  },
  {
   "cell_type": "markdown",
   "id": "e9e14306",
   "metadata": {},
   "source": [
    "Function input"
   ]
  },
  {
   "cell_type": "markdown",
   "id": "3adafc83",
   "metadata": {},
   "source": [
    "- s: spot price\n",
    "\n",
    "- k: strike price\n",
    "\n",
    "- t: time to maturity\n",
    "\n",
    "- r: risk free rate\n",
    "\n",
    "- vol: volatility of underlying asset\n"
   ]
  },
  {
   "cell_type": "code",
   "execution_count": 30,
   "id": "a83a831a",
   "metadata": {},
   "outputs": [],
   "source": [
    "def black_scholes_call(s, k, t, r, q, vol):\n",
    "    d1 = (np.log(s / k) + (r - q + 0.5 * vol**2) * t) / (vol * np.sqrt(t))\n",
    "    d2 = (np.log(s / k) + (r - q - 0.5* vol**2) * t) / (vol * np.sqrt(t))\n",
    "    return s * np.exp(-q * t ) * si.norm.cdf(d1, 0.0, 1.0) - k * np.exp(-r * t) * si.norm.cdf(d2, 0.0, 1.0)"
   ]
  },
  {
   "cell_type": "markdown",
   "id": "ae4e13be",
   "metadata": {},
   "source": [
    "Calculating the values for the puts"
   ]
  },
  {
   "cell_type": "code",
   "execution_count": 31,
   "id": "72a1ae99",
   "metadata": {
    "scrolled": true
   },
   "outputs": [],
   "source": [
    "def black_scholes_put(s, k, t, r, q, vol):\n",
    "    d1 = (np.log(s / k) + (r - q + 0.5 * vol**2) * t) / (vol * np.sqrt(t))\n",
    "    d2 = (np.log(s / k) + (r - q - 0.5* vol**2) * t) / (vol * np.sqrt(t))\n",
    "    return - s * np.exp(-q * t ) * si.norm.cdf(-d1, 0.0, 1.0) - k * np.exp(-r * t) * si.norm.cdf(-d2, 0.0, 1.0)"
   ]
  },
  {
   "cell_type": "code",
   "execution_count": 32,
   "id": "08469fcf",
   "metadata": {},
   "outputs": [],
   "source": [
    "s = np.linspace(50,150,11)\n",
    "call = np.zeros((len(s), 1))\n",
    "put = np.zeros((len(s), 1))\n",
    "for i in range(len(s)):\n",
    "    call [i] = black_scholes_call(s[i], 100, 10.0/12.0, 0.06, 0.03, 0.0175)\n",
    "    put [i] = black_scholes_put(s[i], 100, 10.0/12.0, 0.06, 0.03, 0.0175)"
   ]
  },
  {
   "cell_type": "code",
   "execution_count": 37,
   "id": "d99b1da4",
   "metadata": {},
   "outputs": [],
   "source": [
    "k = 100\n",
    "r = 0.1\n",
    "t = 1\n",
    "q = 0.3\n",
    "\n",
    "s = np.linspace(50,150,11)\n",
    "call = np.zeros((len(s), 1))\n",
    "put = np.zeros((len(s), 1))\n",
    "for i in range(len(s)):\n",
    "    s = np.linspace(50,150,11)\n",
    "    call[i] = black_scholes_call(s[i], k, t, r, q, round(vol* 100, 2)) \n",
    "    put [i] = black_scholes_put(s[i], k, t, r, q, round(vol* 100, 2))"
   ]
  },
  {
   "cell_type": "code",
   "execution_count": 38,
   "id": "635ffa56",
   "metadata": {},
   "outputs": [
    {
     "data": {
      "text/plain": [
       "array([[20.96639822],\n",
       "       [26.52612111],\n",
       "       [32.26746174],\n",
       "       [38.15589001],\n",
       "       [44.1663583 ],\n",
       "       [50.280014  ],\n",
       "       [56.48225112],\n",
       "       [62.76148702],\n",
       "       [69.1083585 ],\n",
       "       [75.51517348],\n",
       "       [81.9755253 ]])"
      ]
     },
     "execution_count": 38,
     "metadata": {},
     "output_type": "execute_result"
    }
   ],
   "source": [
    "call"
   ]
  },
  {
   "cell_type": "code",
   "execution_count": 39,
   "id": "9bc08e54",
   "metadata": {},
   "outputs": [
    {
     "data": {
      "text/plain": [
       "array([[-93.95119979],\n",
       "       [-93.57122832],\n",
       "       [-93.13255963],\n",
       "       [-92.65668347],\n",
       "       [-92.15733539],\n",
       "       [-91.64364733],\n",
       "       [-91.12187046],\n",
       "       [-90.59637789],\n",
       "       [-90.0702778 ],\n",
       "       [-89.54580344],\n",
       "       [-89.02456964]])"
      ]
     },
     "execution_count": 39,
     "metadata": {},
     "output_type": "execute_result"
    }
   ],
   "source": [
    "put"
   ]
  },
  {
   "cell_type": "markdown",
   "id": "49cbe14e",
   "metadata": {},
   "source": [
    "# As price had a declining pattern during most of time of the year, the lines for the call and Put were far apart and didn't meet"
   ]
  },
  {
   "cell_type": "code",
   "execution_count": 40,
   "id": "388d7bcf",
   "metadata": {},
   "outputs": [
    {
     "data": {
      "image/png": "[encoded data removed]",
      "text/plain": [
       "<Figure size 432x288 with 1 Axes>"
      ]
     },
     "metadata": {
      "needs_background": "light"
     },
     "output_type": "display_data"
    }
   ],
   "source": [
    "fig = plt.figure()\n",
    "plt.plot(s, call, '-')\n",
    "plt.plot(s, put, '--')\n",
    "plt.grid()\n",
    "plt.xlabel('Crypto Price')\n",
    "plt.ylabel('Option Price')\n",
    "plt.title('European Option')\n",
    "plt.legend(['Call', 'Put']);"
   ]
  },
  {
   "cell_type": "markdown",
   "id": "1a8d2f81",
   "metadata": {},
   "source": []
  },
  {
   "cell_type": "code",
   "execution_count": 54,
   "id": "ab9266df",
   "metadata": {},
   "outputs": [],
   "source": [
    "def Binomial(n, s, k, r, v, t, option):\n",
    "    at = t/n\n",
    "    u = np.exp(v * np.sqrt(at))\n",
    "    d = 1. / u\n",
    "    p = (np.exp(r*at)- d) / (u-d)\n",
    "    \n",
    "    stock_value = np.zeros((n+1,n+1))\n",
    "    stock_value[0,0] = s\n",
    "    for i in range(1,n+1):\n",
    "        stock_value[i,0] = stock_value[i-1,0] * u\n",
    "        for j in range(1,i+1):\n",
    "            stock_value[i,j] = stock_value[i-1, j-1] * d\n",
    "    \n",
    "    \n",
    "    option_value = np.zeros((n+1, n+1))\n",
    "    for j in range(1,n+1):\n",
    "        if option == \"call\":\n",
    "            option_value[n,j] = max(0, stock_value[n,j] - k)\n",
    "        elif option == \"put\":\n",
    "            option_value[n,j] = max(0,k - stock_value[n,j])\n",
    "        \n",
    "    for i in range(n-1, -1,-1):\n",
    "        for j in range(i+1):\n",
    "            if option == \"put\":\n",
    "                option_value[i,j] = max(0, k - stock_value[i,j], np.exp(-r*at)*(p*option_value[i+1,j]+(1-p)*option_value[i+1, j+1]))\n",
    "            elif option == \"call\":\n",
    "                option_value[i,j] = max(0, stock_value[i,j] - k, np.exp(-r * at) * (p * option_value[i+1 , j] + (1-p) * option_value[i+1, j+1]))\n",
    "    return option_value[0,0]\n",
    "            "
   ]
  },
  {
   "cell_type": "code",
   "execution_count": 66,
   "id": "2fb24237",
   "metadata": {},
   "outputs": [],
   "source": [
    "n = 3\n",
    "s = np.linspace(50,150,11)\n",
    "r = 0.06\n",
    "k = 1\n",
    "v = 0.34\n",
    "t = 10.0 / 12.0"
   ]
  },
  {
   "cell_type": "code",
   "execution_count": 72,
   "id": "4f6cde7a",
   "metadata": {},
   "outputs": [],
   "source": [
    "n = 3\n",
    "s = np.linspace(50,150,11)\n",
    "r = 0.06\n",
    "k = 1\n",
    "v = 0.34\n",
    "t = 10.0 / 12.0"
   ]
  },
  {
   "cell_type": "code",
   "execution_count": 75,
   "id": "dd35b0d0",
   "metadata": {},
   "outputs": [],
   "source": [
    "n = 3\n",
    "s = np.linspace(50,150,11)\n",
    "r = 0.06\n",
    "k = 1\n",
    "v = 0.34\n",
    "t = 10.0 / 12.0"
   ]
  },
  {
   "cell_type": "code",
   "execution_count": 76,
   "id": "8cf69593",
   "metadata": {},
   "outputs": [],
   "source": [
    "call2 = np.zeros((len(s), 1))\n",
    "put2 = np.zeros((len(s), 1))\n",
    "for i in range(len(s)):\n",
    "    call2[i] = Binomial(n, s[i], k, r, v, t, option=\"call\")\n",
    "    put2[i] = Binomial(n,s[i], k, r, v, t, option=\"put\")"
   ]
  },
  {
   "cell_type": "code",
   "execution_count": 77,
   "id": "51a06415",
   "metadata": {},
   "outputs": [
    {
     "data": {
      "image/png": "[encoded data removed]",
      "text/plain": [
       "<Figure size 432x288 with 1 Axes>"
      ]
     },
     "metadata": {
      "needs_background": "light"
     },
     "output_type": "display_data"
    }
   ],
   "source": [
    "fig = plt.figure()\n",
    "plt.plot(s, call, '--')\n",
    "plt.plot(s, put, '--')\n",
    "plt.grid()\n",
    "plt.xlabel('Crypto Price')\n",
    "plt.ylabel('Option Price')\n",
    "plt.title('American Option')\n",
    "plt.legend(['Call', 'Put']);"
   ]
  },
  {
   "cell_type": "markdown",
   "id": "4cd3b50d",
   "metadata": {},
   "source": [
    "# Calculating Greeks"
   ]
  },
  {
   "cell_type": "code",
   "execution_count": 78,
   "id": "803b2fd8",
   "metadata": {},
   "outputs": [],
   "source": [
    "# Delta\n",
    "def delta(s, k, t, r, q, vol, option):\n",
    "    d1 = (np.log(s / k)+ (r - q + 0.5 * vol **2 * t) / (vol * np.sqrt(t)))\n",
    "    if option == \"call\":\n",
    "        delta = np.exp(-q * t) * si.norm.cdf(d1, 0.0, 1.0)\n",
    "    elif option == \"put\":\n",
    "        delta = - np.exp(-q * t) * si.norm.cdf(-d1, 0.0, 1.0)\n",
    "    return delta"
   ]
  },
  {
   "cell_type": "code",
   "execution_count": 79,
   "id": "17b31ad9",
   "metadata": {},
   "outputs": [
    {
     "data": {
      "text/plain": [
       "0.9463874363396041"
      ]
     },
     "execution_count": 79,
     "metadata": {},
     "output_type": "execute_result"
    }
   ],
   "source": [
    "delta(100,100, 10/12, 0.06, 0.03, vol, 'call')"
   ]
  },
  {
   "cell_type": "code",
   "execution_count": 80,
   "id": "5af148a4",
   "metadata": {},
   "outputs": [
    {
     "data": {
      "text/plain": [
       "-0.028922475688728563"
      ]
     },
     "execution_count": 80,
     "metadata": {},
     "output_type": "execute_result"
    }
   ],
   "source": [
    "delta(100,100, 10/12, 0.06, 0.03, vol, 'put')"
   ]
  },
  {
   "cell_type": "code",
   "execution_count": 81,
   "id": "71c78327",
   "metadata": {},
   "outputs": [],
   "source": [
    "#Gamma\n",
    "def gamma(s,k,t,r,q,vol):\n",
    "    d1 = np.log(s / k) + (r - q + 0.5 * vol ** 2 * t) / (vol * np.sqrt(t))\n",
    "    gamma = np.exp(-r * t) * si.norm.pdf(d1, 0.0, 1.0) / (vol * s * t)\n",
    "    return gamma"
   ]
  },
  {
   "cell_type": "code",
   "execution_count": 82,
   "id": "8c06cbcb",
   "metadata": {},
   "outputs": [
    {
     "data": {
      "text/plain": [
       "0.11173181065999058"
      ]
     },
     "execution_count": 82,
     "metadata": {},
     "output_type": "execute_result"
    }
   ],
   "source": [
    "gamma(100,100, 1, 0.05, 0.03, vol)"
   ]
  },
  {
   "cell_type": "code",
   "execution_count": 83,
   "id": "a80b2e1d",
   "metadata": {},
   "outputs": [],
   "source": [
    "# Rho\n",
    "def rho(s, k , t, r, q, vol, option):\n",
    "    d1 = (np.log(s / k) + (r - q + 0.5 * vol ** 2) * t) / (vol * np.sqrt(t))\n",
    "    d2 =(np.log(s / k) + (r - q - 0.5 * vol ** 2) * t) / (vol * np.sqrt(t))\n",
    "    if option == \"call\":\n",
    "        rho = k * t * np.exp(-r * t) * si.norm.cdf(d2, 0.0, 1.0)\n",
    "    elif option == \"put\":\n",
    "        rho = - k * t * np.exp( - r * t) * si.norm.cdf(-d2, 0.0, 1.0)\n",
    "    return rho"
   ]
  },
  {
   "cell_type": "code",
   "execution_count": 84,
   "id": "3a60451c",
   "metadata": {},
   "outputs": [
    {
     "data": {
      "text/plain": [
       "74.53333730224949"
      ]
     },
     "execution_count": 84,
     "metadata": {},
     "output_type": "execute_result"
    }
   ],
   "source": [
    "rho(100, 100, 10.0/12.0, 0.06, 0.03, vol, 'call')"
   ]
  },
  {
   "cell_type": "code",
   "execution_count": 85,
   "id": "66664199",
   "metadata": {},
   "outputs": [
    {
     "data": {
      "text/plain": [
       "-4.735781406143341"
      ]
     },
     "execution_count": 85,
     "metadata": {},
     "output_type": "execute_result"
    }
   ],
   "source": [
    "rho(100, 100, 10.0/12.0, 0.06, 0.03, vol, 'put')"
   ]
  },
  {
   "cell_type": "code",
   "execution_count": 48,
   "id": "9a6a5488",
   "metadata": {},
   "outputs": [],
   "source": [
    "# Vega\n",
    "def vega(s,k,t,r,q,vol):\n",
    "    d1 = np.log( s / k) + (r - q + 0.5 * vol ** 2 * t) / (vol * np.sqrt(t))\n",
    "    vega = s * np.sqrt(t) * np.exp(-q * t) * si .norm.pdf(d1, 0.0, 1.0)\n",
    "    \n",
    "    return vega"
   ]
  },
  {
   "cell_type": "code",
   "execution_count": 49,
   "id": "901b07ac",
   "metadata": {},
   "outputs": [
    {
     "data": {
      "text/plain": [
       "34.410368451643734"
      ]
     },
     "execution_count": 49,
     "metadata": {},
     "output_type": "execute_result"
    }
   ],
   "source": [
    "vega(100, 100, 10.0/12.0, 0.06, 0.03, 0.34)"
   ]
  },
  {
   "cell_type": "code",
   "execution_count": 50,
   "id": "fc1eee3a",
   "metadata": {},
   "outputs": [],
   "source": [
    "# Theta\n",
    "def theta(s, k, t, r, q, vol, option):\n",
    "    \n",
    "    d1 = (np.log(s / k) + (r - q + 0.5 * vol ** 2) * t) / (vol * np.sqrt(t))\n",
    "    d2 = (np.log(s / k) + (r - q - 0.5 * vol ** 2) * t) / (vol * np.sqrt(t))\n",
    "    if option == \"call\":\n",
    "        theta = vol * s * np.exp(-q * t) * si.norm.pdf(d1, 0.0, 1.0) / (2 * np.sqrt(t)) - q * s * np.exp(-q * t) * si.norm.cdf(d1, 0.0, 1.0)\n",
    "    elif option == \"put\":\n",
    "                theta = vol * s * np.exp(-q * t) * si.norm.pdf(-d1, 0.0, 1.0) / (2 * np.sqrt(t)) - q * s * np.exp(-q * t) * si.norm.cdf(-d1, 0.0, 1.0)\n",
    "    return theta"
   ]
  },
  {
   "cell_type": "code",
   "execution_count": 51,
   "id": "ca255d96",
   "metadata": {},
   "outputs": [
    {
     "data": {
      "text/plain": [
       "5.3117321143629175"
      ]
     },
     "execution_count": 51,
     "metadata": {},
     "output_type": "execute_result"
    }
   ],
   "source": [
    "theta(100, 100, 10.0/12.0, 0.06, 0.03, 0.34, 'call')"
   ]
  },
  {
   "cell_type": "code",
   "execution_count": 53,
   "id": "5604850a",
   "metadata": {},
   "outputs": [
    {
     "data": {
      "text/plain": [
       "5.857014446640031"
      ]
     },
     "execution_count": 53,
     "metadata": {},
     "output_type": "execute_result"
    }
   ],
   "source": [
    "theta(100, 100, 10.0/12.0, 0.06, 0.03, 0.34, 'put')"
   ]
  },
  {
   "cell_type": "code",
   "execution_count": null,
   "id": "b2aa91f6",
   "metadata": {},
   "outputs": [],
   "source": []
  }
 ],
 "metadata": {
  "kernelspec": {
   "display_name": "Python 3",
   "language": "python",
   "name": "python3"
  },
  "language_info": {
   "codemirror_mode": {
    "name": "ipython",
    "version": 3
   },
   "file_extension": ".py",
   "mimetype": "text/x-python",
   "name": "python",
   "nbconvert_exporter": "python",
   "pygments_lexer": "ipython3",
   "version": "3.8.8"
  }
 },
 "nbformat": 4,
 "nbformat_minor": 5
}
