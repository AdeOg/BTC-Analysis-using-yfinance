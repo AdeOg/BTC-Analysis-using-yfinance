{
 "cells": [
  {
   "cell_type": "code",
   "execution_count": 1,
   "id": "fffe7e32",
   "metadata": {},
   "outputs": [],
   "source": [
    "import numpy as np \n",
    "import pandas as pd\n",
    "import matplotlib.pyplot as plt\n",
    "import yfinance as yf\n",
    "import scipy.stats as si"
   ]
  },
  {
   "cell_type": "code",
   "execution_count": 2,
   "id": "07079631",
   "metadata": {},
   "outputs": [
    {
     "name": "stdout",
     "output_type": "stream",
     "text": [
      "[*********************100%***********************]  1 of 1 completed\n"
     ]
    }
   ],
   "source": [
    "df = yf.download(\"BTC\", start=\"2021-01-01\", end=\"2021-12-30\")"
   ]
  },
  {
   "cell_type": "code",
   "execution_count": 3,
   "id": "f1d12832",
   "metadata": {},
   "outputs": [
    {
     "data": {
      "text/plain": [
       "251"
      ]
     },
     "execution_count": 3,
     "metadata": {},
     "output_type": "execute_result"
    }
   ],
   "source": [
    "df.shape[0]"
   ]
  },
  {
   "cell_type": "code",
   "execution_count": 4,
   "id": "7f3ce3f2",
   "metadata": {},
   "outputs": [
    {
     "data": {
      "text/html": [
       "<div>\n",
       "<style scoped>\n",
       "    .dataframe tbody tr th:only-of-type {\n",
       "        vertical-align: middle;\n",
       "    }\n",
       "\n",
       "    .dataframe tbody tr th {\n",
       "        vertical-align: top;\n",
       "    }\n",
       "\n",
       "    .dataframe thead th {\n",
       "        text-align: right;\n",
       "    }\n",
       "</style>\n",
       "<table border=\"1\" class=\"dataframe\">\n",
       "  <thead>\n",
       "    <tr style=\"text-align: right;\">\n",
       "      <th></th>\n",
       "      <th>Open</th>\n",
       "      <th>High</th>\n",
       "      <th>Low</th>\n",
       "      <th>Close</th>\n",
       "      <th>Adj Close</th>\n",
       "      <th>Volume</th>\n",
       "    </tr>\n",
       "    <tr>\n",
       "      <th>Date</th>\n",
       "      <th></th>\n",
       "      <th></th>\n",
       "      <th></th>\n",
       "      <th></th>\n",
       "      <th></th>\n",
       "      <th></th>\n",
       "    </tr>\n",
       "  </thead>\n",
       "  <tbody>\n",
       "    <tr>\n",
       "      <th>2020-12-31</th>\n",
       "      <td>100.160004</td>\n",
       "      <td>100.160004</td>\n",
       "      <td>100.154999</td>\n",
       "      <td>100.154999</td>\n",
       "      <td>100.154999</td>\n",
       "      <td>102</td>\n",
       "    </tr>\n",
       "    <tr>\n",
       "      <th>2021-01-04</th>\n",
       "      <td>100.122902</td>\n",
       "      <td>100.122902</td>\n",
       "      <td>100.122902</td>\n",
       "      <td>100.122902</td>\n",
       "      <td>100.122902</td>\n",
       "      <td>2</td>\n",
       "    </tr>\n",
       "    <tr>\n",
       "      <th>2021-01-05</th>\n",
       "      <td>100.059998</td>\n",
       "      <td>100.079903</td>\n",
       "      <td>100.050003</td>\n",
       "      <td>100.050003</td>\n",
       "      <td>100.050003</td>\n",
       "      <td>751</td>\n",
       "    </tr>\n",
       "    <tr>\n",
       "      <th>2021-01-06</th>\n",
       "      <td>99.859001</td>\n",
       "      <td>99.874603</td>\n",
       "      <td>99.859001</td>\n",
       "      <td>99.874603</td>\n",
       "      <td>99.874603</td>\n",
       "      <td>109</td>\n",
       "    </tr>\n",
       "    <tr>\n",
       "      <th>2021-01-07</th>\n",
       "      <td>99.830002</td>\n",
       "      <td>99.830002</td>\n",
       "      <td>99.785004</td>\n",
       "      <td>99.813698</td>\n",
       "      <td>99.813698</td>\n",
       "      <td>2099</td>\n",
       "    </tr>\n",
       "  </tbody>\n",
       "</table>\n",
       "</div>"
      ],
      "text/plain": [
       "                  Open        High         Low       Close   Adj Close  Volume\n",
       "Date                                                                          \n",
       "2020-12-31  100.160004  100.160004  100.154999  100.154999  100.154999     102\n",
       "2021-01-04  100.122902  100.122902  100.122902  100.122902  100.122902       2\n",
       "2021-01-05  100.059998  100.079903  100.050003  100.050003  100.050003     751\n",
       "2021-01-06   99.859001   99.874603   99.859001   99.874603   99.874603     109\n",
       "2021-01-07   99.830002   99.830002   99.785004   99.813698   99.813698    2099"
      ]
     },
     "execution_count": 4,
     "metadata": {},
     "output_type": "execute_result"
    }
   ],
   "source": [
    "df.head()"
   ]
  },
  {
   "cell_type": "code",
   "execution_count": 5,
   "id": "c011c6bc",
   "metadata": {},
   "outputs": [
    {
     "data": {
      "text/html": [
       "<div>\n",
       "<style scoped>\n",
       "    .dataframe tbody tr th:only-of-type {\n",
       "        vertical-align: middle;\n",
       "    }\n",
       "\n",
       "    .dataframe tbody tr th {\n",
       "        vertical-align: top;\n",
       "    }\n",
       "\n",
       "    .dataframe thead th {\n",
       "        text-align: right;\n",
       "    }\n",
       "</style>\n",
       "<table border=\"1\" class=\"dataframe\">\n",
       "  <thead>\n",
       "    <tr style=\"text-align: right;\">\n",
       "      <th></th>\n",
       "      <th>Open</th>\n",
       "      <th>High</th>\n",
       "      <th>Low</th>\n",
       "      <th>Close</th>\n",
       "      <th>Adj Close</th>\n",
       "      <th>Volume</th>\n",
       "    </tr>\n",
       "  </thead>\n",
       "  <tbody>\n",
       "    <tr>\n",
       "      <th>count</th>\n",
       "      <td>251.000000</td>\n",
       "      <td>251.000000</td>\n",
       "      <td>251.000000</td>\n",
       "      <td>251.000000</td>\n",
       "      <td>251.000000</td>\n",
       "      <td>251.000000</td>\n",
       "    </tr>\n",
       "    <tr>\n",
       "      <th>mean</th>\n",
       "      <td>99.135735</td>\n",
       "      <td>99.150371</td>\n",
       "      <td>99.112634</td>\n",
       "      <td>99.131618</td>\n",
       "      <td>99.131618</td>\n",
       "      <td>2831.828685</td>\n",
       "    </tr>\n",
       "    <tr>\n",
       "      <th>std</th>\n",
       "      <td>0.472000</td>\n",
       "      <td>0.470171</td>\n",
       "      <td>0.461912</td>\n",
       "      <td>0.457527</td>\n",
       "      <td>0.457527</td>\n",
       "      <td>23905.673822</td>\n",
       "    </tr>\n",
       "    <tr>\n",
       "      <th>min</th>\n",
       "      <td>98.172501</td>\n",
       "      <td>98.172501</td>\n",
       "      <td>98.172501</td>\n",
       "      <td>98.172501</td>\n",
       "      <td>98.172501</td>\n",
       "      <td>0.000000</td>\n",
       "    </tr>\n",
       "    <tr>\n",
       "      <th>25%</th>\n",
       "      <td>98.730003</td>\n",
       "      <td>98.735497</td>\n",
       "      <td>98.722202</td>\n",
       "      <td>98.723003</td>\n",
       "      <td>98.723003</td>\n",
       "      <td>2.000000</td>\n",
       "    </tr>\n",
       "    <tr>\n",
       "      <th>50%</th>\n",
       "      <td>99.110001</td>\n",
       "      <td>99.110001</td>\n",
       "      <td>99.110001</td>\n",
       "      <td>99.110001</td>\n",
       "      <td>99.110001</td>\n",
       "      <td>100.000000</td>\n",
       "    </tr>\n",
       "    <tr>\n",
       "      <th>75%</th>\n",
       "      <td>99.575497</td>\n",
       "      <td>99.585701</td>\n",
       "      <td>99.559250</td>\n",
       "      <td>99.581249</td>\n",
       "      <td>99.581249</td>\n",
       "      <td>751.500000</td>\n",
       "    </tr>\n",
       "    <tr>\n",
       "      <th>max</th>\n",
       "      <td>100.889999</td>\n",
       "      <td>100.889999</td>\n",
       "      <td>100.154999</td>\n",
       "      <td>100.154999</td>\n",
       "      <td>100.154999</td>\n",
       "      <td>354054.000000</td>\n",
       "    </tr>\n",
       "  </tbody>\n",
       "</table>\n",
       "</div>"
      ],
      "text/plain": [
       "             Open        High         Low       Close   Adj Close  \\\n",
       "count  251.000000  251.000000  251.000000  251.000000  251.000000   \n",
       "mean    99.135735   99.150371   99.112634   99.131618   99.131618   \n",
       "std      0.472000    0.470171    0.461912    0.457527    0.457527   \n",
       "min     98.172501   98.172501   98.172501   98.172501   98.172501   \n",
       "25%     98.730003   98.735497   98.722202   98.723003   98.723003   \n",
       "50%     99.110001   99.110001   99.110001   99.110001   99.110001   \n",
       "75%     99.575497   99.585701   99.559250   99.581249   99.581249   \n",
       "max    100.889999  100.889999  100.154999  100.154999  100.154999   \n",
       "\n",
       "              Volume  \n",
       "count     251.000000  \n",
       "mean     2831.828685  \n",
       "std     23905.673822  \n",
       "min         0.000000  \n",
       "25%         2.000000  \n",
       "50%       100.000000  \n",
       "75%       751.500000  \n",
       "max    354054.000000  "
      ]
     },
     "execution_count": 5,
     "metadata": {},
     "output_type": "execute_result"
    }
   ],
   "source": [
    "df.describe()"
   ]
  },
  {
   "cell_type": "markdown",
   "id": "ba1a6a0d",
   "metadata": {},
   "source": [
    "# This is how volatile the market was for BTC across the whole year"
   ]
  },
  {
   "cell_type": "code",
   "execution_count": 6,
   "id": "2ed851c7",
   "metadata": {},
   "outputs": [
    {
     "name": "stdout",
     "output_type": "stream",
     "text": [
      "Volatility After 365 days: 2.11 %\n"
     ]
    }
   ],
   "source": [
    "df['Log Return'] = np.log(df['Adj Close'] / df['Adj Close'].shift(1))\n",
    "vol = np.sqrt(365) * df['Log Return'].std()\n",
    "print(\"Volatility After 365 days:\", round(vol* 100, 2), '%')"
   ]
  },
  {
   "cell_type": "markdown",
   "id": "6a36c9f3",
   "metadata": {},
   "source": [
    "# This plot shows the change in prices of Bitcoin during 2021"
   ]
  },
  {
   "cell_type": "markdown",
   "id": "e21c5efc",
   "metadata": {},
   "source": [
    "The data for the period between 5-2021 to 7-2021 seems to be missing"
   ]
  },
  {
   "cell_type": "code",
   "execution_count": 7,
   "id": "86ba705d",
   "metadata": {},
   "outputs": [
    {
     "data": {
      "image/png": "[encoded data removed]",
      "text/plain": [
       "<Figure size 576x360 with 1 Axes>"
      ]
     },
     "metadata": {
      "needs_background": "light"
     },
     "output_type": "display_data"
    }
   ],
   "source": [
    "df['Adj Close'].plot(subplots=True, color='green', figsize=(8,5));"
   ]
  },
  {
   "cell_type": "markdown",
   "id": "45c64369",
   "metadata": {},
   "source": [
    "Creating the function for call values"
   ]
  },
  {
   "cell_type": "code",
   "execution_count": 8,
   "id": "cb7b110b",
   "metadata": {},
   "outputs": [],
   "source": [
    "def black_scholes_call(s, k, t, r, q, vol):\n",
    "    #s: spot price\n",
    "    #k: strike price\n",
    "    #t: time to maturity\n",
    "    #r: risk free rate\n",
    "    #vol: volatility of underlying asset\n",
    "    d1 = (np.log(s / k) + (r - q + 0.5 * vol**2) * t) / (vol * np.sqrt(t))\n",
    "    d2 = (np.log(s / k) + (r - q - 0.5* vol**2) * t) / (vol * np.sqrt(t))\n",
    "    return s * np.exp(-q * t ) * si.norm.cdf(d1, 0.0, 1.0) - k * np.exp(-r * t) * si.norm.cdf(d2, 0.0, 1.0)"
   ]
  },
  {
   "cell_type": "markdown",
   "id": "de99c1b8",
   "metadata": {},
   "source": [
    "Calculating the values for the puts"
   ]
  },
  {
   "cell_type": "code",
   "execution_count": 9,
   "id": "1fdb6ea3",
   "metadata": {
    "scrolled": true
   },
   "outputs": [],
   "source": [
    "def black_scholes_put(s, k, t, r, q, vol):\n",
    "    #s: spot price\n",
    "    #k: strike price\n",
    "    #t: time to maturity\n",
    "    #r: risk free rate\n",
    "    #vol: volatility of underlying asset\n",
    "    d1 = (np.log(s / k) + (r - q + 0.5 * vol**2) * t) / (vol * np.sqrt(t))\n",
    "    d2 = (np.log(s / k) + (r - q - 0.5* vol**2) * t) / (vol * np.sqrt(t))\n",
    "    return - s * np.exp(-q * t ) * si.norm.cdf(-d1, 0.0, 1.0) - k * np.exp(-r * t) * si.norm.cdf(-d2, 0.0, 1.0)"
   ]
  },
  {
   "cell_type": "code",
   "execution_count": 10,
   "id": "e274bfa8",
   "metadata": {},
   "outputs": [],
   "source": [
    "# values for x-axis\n",
    "s = np.linspace(50,150,11) \n",
    "\n",
    "call = np.zeros((len(s), 1))\n",
    "put = np.zeros((len(s), 1))\n",
    "for i in range(len(s)):\n",
    "    call [i] = black_scholes_call(s[i], 100, 10.0/12.0, 0.06, 0.03, 0.0175)\n",
    "    put [i] = black_scholes_put(s[i], 100, 10.0/12.0, 0.06, 0.03, 0.0175)"
   ]
  },
  {
   "cell_type": "code",
   "execution_count": 11,
   "id": "7e8f5807",
   "metadata": {},
   "outputs": [],
   "source": [
    "k = 100\n",
    "r = 0.1\n",
    "t = 1\n",
    "q = 0.3\n",
    "\n",
    "s = np.linspace(50,150,11)\n",
    "call = np.zeros((len(s), 1))\n",
    "put = np.zeros((len(s), 1))\n",
    "for i in range(len(s)):\n",
    "    s = np.linspace(50,150,11)\n",
    "    call[i] = black_scholes_call(s[i], k, t, r, q, round(vol* 100, 2)) \n",
    "    put [i] = black_scholes_put(s[i], k, t, r, q, round(vol* 100, 2))"
   ]
  },
  {
   "cell_type": "code",
   "execution_count": 12,
   "id": "478d9d77",
   "metadata": {},
   "outputs": [
    {
     "data": {
      "text/plain": [
       "array([[20.96639822],\n",
       "       [26.52612111],\n",
       "       [32.26746174],\n",
       "       [38.15589001],\n",
       "       [44.1663583 ],\n",
       "       [50.280014  ],\n",
       "       [56.48225112],\n",
       "       [62.76148702],\n",
       "       [69.1083585 ],\n",
       "       [75.51517348],\n",
       "       [81.9755253 ]])"
      ]
     },
     "execution_count": 12,
     "metadata": {},
     "output_type": "execute_result"
    }
   ],
   "source": [
    "call"
   ]
  },
  {
   "cell_type": "code",
   "execution_count": 13,
   "id": "482e0dda",
   "metadata": {},
   "outputs": [
    {
     "data": {
      "text/plain": [
       "array([[-93.95119979],\n",
       "       [-93.57122832],\n",
       "       [-93.13255963],\n",
       "       [-92.65668347],\n",
       "       [-92.15733539],\n",
       "       [-91.64364733],\n",
       "       [-91.12187046],\n",
       "       [-90.59637789],\n",
       "       [-90.0702778 ],\n",
       "       [-89.54580344],\n",
       "       [-89.02456964]])"
      ]
     },
     "execution_count": 13,
     "metadata": {},
     "output_type": "execute_result"
    }
   ],
   "source": [
    "put"
   ]
  },
  {
   "cell_type": "markdown",
   "id": "f9f4bdfa",
   "metadata": {},
   "source": [
    "# European Options Plot"
   ]
  },
  {
   "cell_type": "code",
   "execution_count": 14,
   "id": "24a7df3e",
   "metadata": {},
   "outputs": [
    {
     "data": {
      "image/png": "[encoded data removed]",
      "text/plain": [
       "<Figure size 432x288 with 1 Axes>"
      ]
     },
     "metadata": {
      "needs_background": "light"
     },
     "output_type": "display_data"
    }
   ],
   "source": [
    "fig = plt.figure()\n",
    "plt.plot(s, call, '-')\n",
    "plt.plot(s, put, '--')\n",
    "plt.grid()\n",
    "plt.xlabel('Crypto Price')\n",
    "plt.ylabel('Option Price')\n",
    "plt.title('European Option')\n",
    "plt.legend(['Call', 'Put']);"
   ]
  },
  {
   "cell_type": "code",
   "execution_count": 17,
   "id": "13aa9014",
   "metadata": {},
   "outputs": [],
   "source": [
    "n = 3\n",
    "s = np.linspace(50,150,11)\n",
    "r = 0.06\n",
    "k = 1\n",
    "v = vol\n",
    "q = 0.03\n",
    "t = 10.0 / 12.0"
   ]
  },
  {
   "cell_type": "code",
   "execution_count": 15,
   "id": "02808e70",
   "metadata": {},
   "outputs": [],
   "source": [
    "def Binomial_call(n, s, k, r, v, t):\n",
    "    #s: spot price\n",
    "    #k: strike price\n",
    "    #t: time to maturity\n",
    "    #r: risk free rate\n",
    "    #vol: volatility of underlying asset\n",
    "    at = t/n\n",
    "    u = np.exp(v * np.sqrt(at))\n",
    "    d = 1. / u\n",
    "    p = (np.exp(r*at)- d) / (u-d)\n",
    "    \n",
    "    stock_value = np.zeros((n+1,n+1))\n",
    "    stock_value[0,0] = s\n",
    "    for i in range(1,n+1):\n",
    "        stock_value[i,0] = stock_value[i-1,0] * u\n",
    "        for j in range(1,i+1):\n",
    "            stock_value[i,j] = stock_value[i-1, j-1] * d\n",
    "    \n",
    "    \n",
    "    option_value = np.zeros((n+1, n+1))\n",
    "    for j in range(1,n+1):\n",
    "        option_value[n,j] = max(0, stock_value[n,j] - k)\n",
    "        \n",
    "    for i in range(n-1, -1,-1):\n",
    "        for j in range(i+1):\n",
    "            option_value[i,j] = max(0, stock_value[i,j] - k, np.exp(-r * at) * (p * option_value[i+1 , j] + (1-p) * option_value[i+1, j+1]))\n",
    "    return option_value[0,0]\n",
    "            "
   ]
  },
  {
   "cell_type": "code",
   "execution_count": 16,
   "id": "6f15f73b",
   "metadata": {},
   "outputs": [],
   "source": [
    "def Binomial_put(n, s, k, r, v, t):\n",
    "    #s: spot price\n",
    "    #k: strike price\n",
    "    #t: time to maturity\n",
    "    #r: risk free rate\n",
    "    #vol: volatility of underlying asset\n",
    "    at = t/n\n",
    "    u = np.exp(v * np.sqrt(at))\n",
    "    d = 1. / u\n",
    "    p = (np.exp(r*at)- d) / (u-d)\n",
    "    \n",
    "    stock_value = np.zeros((n+1,n+1))\n",
    "    stock_value[0,0] = s\n",
    "    for i in range(1,n+1):\n",
    "        stock_value[i,0] = stock_value[i-1,0] * u\n",
    "        for j in range(1,i+1):\n",
    "            stock_value[i,j] = stock_value[i-1, j-1] * d\n",
    "    \n",
    "    \n",
    "    option_value = np.zeros((n+1, n+1))\n",
    "    for j in range(1,n+1):\n",
    "         option_value[n,j] = max(0,k - stock_value[n,j])\n",
    "        \n",
    "    for i in range(n-1, -1,-1):\n",
    "        for j in range(i+1):\n",
    "            option_value[i,j] = max(0, k - stock_value[i,j], np.exp(-r*at)*(p*option_value[i+1,j]+(1-p)*option_value[i+1, j+1]))\n",
    "    \n",
    "    return option_value[0,0]\n",
    "            "
   ]
  },
  {
   "cell_type": "code",
   "execution_count": 18,
   "id": "2d74719c",
   "metadata": {},
   "outputs": [],
   "source": [
    "call2 = np.zeros((len(s), 1))\n",
    "put2 = np.zeros((len(s), 1))\n",
    "for i in range(len(s)):\n",
    "    call[i] = Binomial_call(n, s[i], k, r, v, t)\n",
    "    put[i] = Binomial_put(n,s[i], k, r, v, t)"
   ]
  },
  {
   "cell_type": "code",
   "execution_count": 19,
   "id": "72959929",
   "metadata": {},
   "outputs": [
    {
     "data": {
      "image/png": "[encoded data removed]",
      "text/plain": [
       "<Figure size 432x288 with 1 Axes>"
      ]
     },
     "metadata": {
      "needs_background": "light"
     },
     "output_type": "display_data"
    }
   ],
   "source": [
    "fig = plt.figure()\n",
    "plt.plot(s, call, '--')\n",
    "plt.plot(s, put, '--')\n",
    "plt.grid()\n",
    "plt.xlabel('Crypto Price')\n",
    "plt.ylabel('Option Price')\n",
    "plt.title('American Option')\n",
    "plt.legend(['Call', 'Put']);"
   ]
  },
  {
   "cell_type": "markdown",
   "id": "d9c49057",
   "metadata": {},
   "source": [
    "# Calculating Greeks"
   ]
  },
  {
   "cell_type": "code",
   "execution_count": 20,
   "id": "95943600",
   "metadata": {},
   "outputs": [],
   "source": [
    "def delta_call(s, k, t, r, q, vol):\n",
    "    # delta value for call\n",
    "    d1 = (np.log(s / k)+ (r - q + 0.5 * vol **2 * t) / (vol * np.sqrt(t)))\n",
    "    return np.exp(-q * t) * si.norm.cdf(d1, 0.0, 1.0)"
   ]
  },
  {
   "cell_type": "code",
   "execution_count": 21,
   "id": "e860e569",
   "metadata": {},
   "outputs": [],
   "source": [
    "def delta_put(s, k, t, r, q, vol):\n",
    "    #delta value for put\n",
    "    d1 = (np.log(s / k)+ (r - q + 0.5 * vol **2 * t) / (vol * np.sqrt(t)))\n",
    "\n",
    "    delta = - np.exp(-q * t) * si.norm.cdf(-d1, 0.0, 1.0)\n",
    "    return delta"
   ]
  },
  {
   "cell_type": "code",
   "execution_count": 37,
   "id": "26adbd68",
   "metadata": {},
   "outputs": [
    {
     "data": {
      "text/plain": [
       "0.9753098913839994"
      ]
     },
     "execution_count": 37,
     "metadata": {},
     "output_type": "execute_result"
    }
   ],
   "source": [
    "delta_call(s[0], k, t, r, q, vol)"
   ]
  },
  {
   "cell_type": "code",
   "execution_count": 38,
   "id": "401ef3d5",
   "metadata": {},
   "outputs": [
    {
     "data": {
      "text/plain": [
       "-2.0644333287429384e-08"
      ]
     },
     "execution_count": 38,
     "metadata": {},
     "output_type": "execute_result"
    }
   ],
   "source": [
    "delta_put(s[0], k, t, r, q, vol)"
   ]
  },
  {
   "cell_type": "code",
   "execution_count": 24,
   "id": "d09d0afd",
   "metadata": {},
   "outputs": [],
   "source": [
    "#Gamma\n",
    "def gamma(s,k,t,r,q,vol):\n",
    "    d1 = np.log(s / k) + (r - q + 0.5 * vol ** 2 * t) / (vol * np.sqrt(t))\n",
    "    gamma = np.exp(-r * t) * si.norm.pdf(d1, 0.0, 1.0) / (vol * s * t)\n",
    "    return gamma"
   ]
  },
  {
   "cell_type": "code",
   "execution_count": 36,
   "id": "73831665",
   "metadata": {},
   "outputs": [
    {
     "data": {
      "text/plain": [
       "1.2959915323931936e-07"
      ]
     },
     "execution_count": 36,
     "metadata": {},
     "output_type": "execute_result"
    }
   ],
   "source": [
    "gamma(s[0], k, t, r, q, vol)"
   ]
  },
  {
   "cell_type": "code",
   "execution_count": 26,
   "id": "43b5c64d",
   "metadata": {},
   "outputs": [],
   "source": [
    "# Rho value for call\n",
    "def rho_call(s, k , t, r, q, vol):\n",
    "    d1 = (np.log(s / k) + (r - q + 0.5 * vol ** 2) * t) / (vol * np.sqrt(t))\n",
    "    d2 =(np.log(s / k) + (r - q - 0.5 * vol ** 2) * t) / (vol * np.sqrt(t))\n",
    "    rho = k * t * np.exp(-r * t) * si.norm.cdf(d2, 0.0, 1.0)\n",
    "    return rho"
   ]
  },
  {
   "cell_type": "code",
   "execution_count": 27,
   "id": "c4670671",
   "metadata": {},
   "outputs": [],
   "source": [
    "# Rho value for put\n",
    "def rho_put(s, k , t, r, q, vol):\n",
    "    d1 = (np.log(s / k) + (r - q + 0.5 * vol ** 2) * t) / (vol * np.sqrt(t))\n",
    "    d2 =(np.log(s / k) + (r - q - 0.5 * vol ** 2) * t) / (vol * np.sqrt(t))\n",
    "    rho = - k * t * np.exp( - r * t) * si.norm.cdf(-d2, 0.0, 1.0)\n",
    "    return rho"
   ]
  },
  {
   "cell_type": "code",
   "execution_count": 28,
   "id": "a990afcc",
   "metadata": {},
   "outputs": [
    {
     "data": {
      "text/plain": [
       "0.7926911870839284"
      ]
     },
     "execution_count": 28,
     "metadata": {},
     "output_type": "execute_result"
    }
   ],
   "source": [
    "rho_call(s[0], k, t, r, q, vol)"
   ]
  },
  {
   "cell_type": "code",
   "execution_count": 29,
   "id": "9ea84976",
   "metadata": {},
   "outputs": [
    {
     "data": {
      "text/plain": [
       "-0.0"
      ]
     },
     "execution_count": 29,
     "metadata": {},
     "output_type": "execute_result"
    }
   ],
   "source": [
    "rho_put(s[0], k, t, r, q, vol)"
   ]
  },
  {
   "cell_type": "code",
   "execution_count": 30,
   "id": "dc10d0bd",
   "metadata": {},
   "outputs": [],
   "source": [
    "# Vega\n",
    "def vega(s,k,t,r,q,vol):\n",
    "    d1 = np.log( s / k) + (r - q + 0.5 * vol ** 2 * t) / (vol * np.sqrt(t))\n",
    "    vega = s * np.sqrt(t) * np.exp(-q * t) * si .norm.pdf(d1, 0.0, 1.0)\n",
    "    \n",
    "    return vega"
   ]
  },
  {
   "cell_type": "code",
   "execution_count": 31,
   "id": "bcb0dac1",
   "metadata": {},
   "outputs": [
    {
     "data": {
      "text/plain": [
       "5.326499622869481e-06"
      ]
     },
     "execution_count": 31,
     "metadata": {},
     "output_type": "execute_result"
    }
   ],
   "source": [
    "vega(s[0], k, t, r, q, vol)"
   ]
  },
  {
   "cell_type": "code",
   "execution_count": 32,
   "id": "1f87357c",
   "metadata": {},
   "outputs": [],
   "source": [
    "# Theta value for call\n",
    "def theta_call(s, k, t, r, q, vol):    \n",
    "    d1 = (np.log(s / k) + (r - q + 0.5 * vol ** 2) * t) / (vol * np.sqrt(t))\n",
    "    d2 = (np.log(s / k) + (r - q - 0.5 * vol ** 2) * t) / (vol * np.sqrt(t))\n",
    "   \n",
    "    theta = vol * s * np.exp(-q * t) * si.norm.pdf(d1, 0.0, 1.0) / (2 * np.sqrt(t)) - q * s * np.exp(-q * t) * si.norm.cdf(d1, 0.0, 1.0)\n",
    "    return theta"
   ]
  },
  {
   "cell_type": "code",
   "execution_count": 33,
   "id": "5589ebae",
   "metadata": {},
   "outputs": [],
   "source": [
    "# Theta value for put\n",
    "def theta_put(s, k, t, r, q, vol):\n",
    "    \n",
    "    d1 = (np.log(s / k) + (r - q + 0.5 * vol ** 2) * t) / (vol * np.sqrt(t))\n",
    "    d2 = (np.log(s / k) + (r - q - 0.5 * vol ** 2) * t) / (vol * np.sqrt(t))\n",
    "\n",
    "    theta = vol * s * np.exp(-q * t) * si.norm.pdf(-d1, 0.0, 1.0) / (2 * np.sqrt(t)) - q * s * np.exp(-q * t) * si.norm.cdf(-d1, 0.0, 1.0)\n",
    "    return theta"
   ]
  },
  {
   "cell_type": "code",
   "execution_count": 34,
   "id": "d8d59ff3",
   "metadata": {},
   "outputs": [
    {
     "data": {
      "text/plain": [
       "-1.462964868042499"
      ]
     },
     "execution_count": 34,
     "metadata": {},
     "output_type": "execute_result"
    }
   ],
   "source": [
    "theta_call(s[0], k, t, r, q, vol)"
   ]
  },
  {
   "cell_type": "code",
   "execution_count": 35,
   "id": "edcb8937",
   "metadata": {},
   "outputs": [
    {
     "data": {
      "text/plain": [
       "0.0"
      ]
     },
     "execution_count": 35,
     "metadata": {},
     "output_type": "execute_result"
    }
   ],
   "source": [
    "theta_put(s[0], k, t, r, q, vol)"
   ]
  }
 ],
 "metadata": {
  "kernelspec": {
   "display_name": "Python 3",
   "language": "python",
   "name": "python3"
  },
  "language_info": {
   "codemirror_mode": {
    "name": "ipython",
    "version": 3
   },
   "file_extension": ".py",
   "mimetype": "text/x-python",
   "name": "python",
   "nbconvert_exporter": "python",
   "pygments_lexer": "ipython3",
   "version": "3.8.8"
  }
 },
 "nbformat": 4,
 "nbformat_minor": 5
}
